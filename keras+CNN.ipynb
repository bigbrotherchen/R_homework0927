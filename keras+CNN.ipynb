{
  "nbformat": 4,
  "nbformat_minor": 0,
  "metadata": {
    "colab": {
      "name": "keras+CNN.ipynb",
      "version": "0.3.2",
      "provenance": [],
      "include_colab_link": true
    },
    "kernelspec": {
      "display_name": "Python 3",
      "language": "python",
      "name": "python3"
    }
  },
  "cells": [
    {
      "cell_type": "markdown",
      "metadata": {
        "id": "view-in-github",
        "colab_type": "text"
      },
      "source": [
        "<a href=\"https://colab.research.google.com/github/bigbrotherchen/R_homework0927/blob/master/keras%2BCNN.ipynb\" target=\"_parent\"><img src=\"https://colab.research.google.com/assets/colab-badge.svg\" alt=\"Open In Colab\"/></a>"
      ]
    },
    {
      "cell_type": "code",
      "metadata": {
        "id": "QANL35x7Vpeq",
        "colab_type": "code",
        "outputId": "17541828-1aaa-4f11-f789-567add4d9ee6",
        "colab": {}
      },
      "source": [
        "import numpy as np\n",
        "import pandas as pd\n",
        "from keras.utils import np_utils\n",
        "np.random.seed(10)\n",
        "from keras.datasets import mnist"
      ],
      "execution_count": 0,
      "outputs": [
        {
          "output_type": "stream",
          "text": [
            "Using TensorFlow backend.\n"
          ],
          "name": "stderr"
        }
      ]
    },
    {
      "cell_type": "code",
      "metadata": {
        "id": "7PtfiKWwVpe2",
        "colab_type": "code",
        "colab": {}
      },
      "source": [
        "(xtrain,ytrain),\\\n",
        "(xtest,ytest)=mnist.load_data()"
      ],
      "execution_count": 0,
      "outputs": []
    },
    {
      "cell_type": "code",
      "metadata": {
        "id": "mqGm1UwHVpe8",
        "colab_type": "code",
        "colab": {}
      },
      "source": [
        "x_train=xtrain.reshape(xtrain.shape[0],28,28,1).astype('float32')\n",
        "x_test=xtest.reshape(xtest.shape[0],28,28,1).astype('float32')"
      ],
      "execution_count": 0,
      "outputs": []
    },
    {
      "cell_type": "code",
      "metadata": {
        "id": "wVdsERPSVpe_",
        "colab_type": "code",
        "colab": {}
      },
      "source": [
        "x_train_normal=x_train/255\n",
        "x_test_normal=x_test/255"
      ],
      "execution_count": 0,
      "outputs": []
    },
    {
      "cell_type": "code",
      "metadata": {
        "id": "c9TqMk_4VpfB",
        "colab_type": "code",
        "colab": {}
      },
      "source": [
        "y_train=np_utils.to_categorical(ytrain)\n",
        "y_test=np_utils.to_categorical(ytest)"
      ],
      "execution_count": 0,
      "outputs": []
    },
    {
      "cell_type": "code",
      "metadata": {
        "id": "9clO38Z7VpfE",
        "colab_type": "code",
        "colab": {}
      },
      "source": [
        "from keras.models import Sequential\n",
        "from keras.layers import Dense,Dropout,Flatten,Conv2D,MaxPooling2D"
      ],
      "execution_count": 0,
      "outputs": []
    },
    {
      "cell_type": "code",
      "metadata": {
        "id": "WGSvOweNVpfG",
        "colab_type": "code",
        "colab": {}
      },
      "source": [
        "model=Sequential()"
      ],
      "execution_count": 0,
      "outputs": []
    },
    {
      "cell_type": "code",
      "metadata": {
        "id": "EsVlMIiZVpfI",
        "colab_type": "code",
        "colab": {}
      },
      "source": [
        "model.add(Conv2D(filters=16,\n",
        "         kernel_size=(5,5),\n",
        "         padding='same',\n",
        "         input_shape=(28,28,1),\n",
        "         activation='relu'))"
      ],
      "execution_count": 0,
      "outputs": []
    },
    {
      "cell_type": "code",
      "metadata": {
        "id": "3_Lp4mbrVpfK",
        "colab_type": "code",
        "colab": {}
      },
      "source": [
        "model.add(MaxPooling2D(pool_size=(2,2)))"
      ],
      "execution_count": 0,
      "outputs": []
    },
    {
      "cell_type": "code",
      "metadata": {
        "id": "gMz-VNCOVpfL",
        "colab_type": "code",
        "colab": {}
      },
      "source": [
        "model.add(Conv2D(filters=36,\n",
        "         kernel_size=(5,5),\n",
        "         padding='same',\n",
        "         activation='relu'))"
      ],
      "execution_count": 0,
      "outputs": []
    },
    {
      "cell_type": "code",
      "metadata": {
        "id": "Ua1UbzDfVpfN",
        "colab_type": "code",
        "colab": {}
      },
      "source": [
        "model.add(MaxPooling2D(pool_size=(2,2)))"
      ],
      "execution_count": 0,
      "outputs": []
    },
    {
      "cell_type": "code",
      "metadata": {
        "id": "xOZi1HHpVpfP",
        "colab_type": "code",
        "colab": {}
      },
      "source": [
        "model.add(Dropout(0.25))"
      ],
      "execution_count": 0,
      "outputs": []
    },
    {
      "cell_type": "code",
      "metadata": {
        "id": "6wbwgyCPVpfR",
        "colab_type": "code",
        "colab": {}
      },
      "source": [
        "model.add(Flatten())"
      ],
      "execution_count": 0,
      "outputs": []
    },
    {
      "cell_type": "code",
      "metadata": {
        "id": "GdtJKMtKVpfS",
        "colab_type": "code",
        "colab": {}
      },
      "source": [
        "model.add(Dense(units=128,activation='relu'))"
      ],
      "execution_count": 0,
      "outputs": []
    },
    {
      "cell_type": "code",
      "metadata": {
        "id": "wY7iar97VpfT",
        "colab_type": "code",
        "colab": {}
      },
      "source": [
        "model.add(Dense(units=10,activation='softmax'))"
      ],
      "execution_count": 0,
      "outputs": []
    },
    {
      "cell_type": "code",
      "metadata": {
        "id": "n1mk_wzHVpfV",
        "colab_type": "code",
        "outputId": "ae91c78f-7a74-44f4-e071-0d412b25bba6",
        "colab": {}
      },
      "source": [
        "model.summary()"
      ],
      "execution_count": 0,
      "outputs": [
        {
          "output_type": "stream",
          "text": [
            "_________________________________________________________________\n",
            "Layer (type)                 Output Shape              Param #   \n",
            "=================================================================\n",
            "conv2d_1 (Conv2D)            (None, 28, 28, 16)        416       \n",
            "_________________________________________________________________\n",
            "max_pooling2d_1 (MaxPooling2 (None, 14, 14, 16)        0         \n",
            "_________________________________________________________________\n",
            "conv2d_2 (Conv2D)            (None, 14, 14, 36)        14436     \n",
            "_________________________________________________________________\n",
            "max_pooling2d_2 (MaxPooling2 (None, 7, 7, 36)          0         \n",
            "_________________________________________________________________\n",
            "dropout_1 (Dropout)          (None, 7, 7, 36)          0         \n",
            "_________________________________________________________________\n",
            "flatten_1 (Flatten)          (None, 1764)              0         \n",
            "_________________________________________________________________\n",
            "dense_1 (Dense)              (None, 128)               225920    \n",
            "_________________________________________________________________\n",
            "dense_2 (Dense)              (None, 10)                1290      \n",
            "=================================================================\n",
            "Total params: 242,062\n",
            "Trainable params: 242,062\n",
            "Non-trainable params: 0\n",
            "_________________________________________________________________\n"
          ],
          "name": "stdout"
        }
      ]
    },
    {
      "cell_type": "code",
      "metadata": {
        "id": "Z3DgyWaAVpfX",
        "colab_type": "code",
        "colab": {}
      },
      "source": [
        "model.compile(loss='categorical_crossentropy',optimizer='adam',metrics=['accuracy'])"
      ],
      "execution_count": 0,
      "outputs": []
    },
    {
      "cell_type": "code",
      "metadata": {
        "id": "6-fdo_z_VpfY",
        "colab_type": "code",
        "outputId": "955742de-49ce-477a-b708-3d60e3661fcd",
        "colab": {}
      },
      "source": [
        "training=model.fit(x=x_train_normal,\n",
        "                  y=y_train,validation_split=0.2,\n",
        "                  epochs=10,batch_size=300,verbose=2)"
      ],
      "execution_count": 0,
      "outputs": [
        {
          "output_type": "stream",
          "text": [
            "Train on 48000 samples, validate on 12000 samples\n",
            "Epoch 1/10\n",
            " - 34s - loss: 0.3697 - acc: 0.8890 - val_loss: 0.1011 - val_acc: 0.9699\n",
            "Epoch 2/10\n",
            " - 34s - loss: 0.0922 - acc: 0.9720 - val_loss: 0.0675 - val_acc: 0.9798\n",
            "Epoch 3/10\n",
            " - 34s - loss: 0.0661 - acc: 0.9792 - val_loss: 0.0530 - val_acc: 0.9843\n",
            "Epoch 4/10\n",
            " - 34s - loss: 0.0517 - acc: 0.9840 - val_loss: 0.0442 - val_acc: 0.9866\n",
            "Epoch 5/10\n",
            " - 34s - loss: 0.0424 - acc: 0.9866 - val_loss: 0.0431 - val_acc: 0.9878\n",
            "Epoch 6/10\n",
            " - 34s - loss: 0.0374 - acc: 0.9883 - val_loss: 0.0413 - val_acc: 0.9886\n",
            "Epoch 7/10\n",
            " - 34s - loss: 0.0323 - acc: 0.9898 - val_loss: 0.0367 - val_acc: 0.9901\n",
            "Epoch 8/10\n",
            " - 34s - loss: 0.0272 - acc: 0.9911 - val_loss: 0.0351 - val_acc: 0.9898\n",
            "Epoch 9/10\n",
            " - 34s - loss: 0.0253 - acc: 0.9917 - val_loss: 0.0320 - val_acc: 0.9905\n",
            "Epoch 10/10\n",
            " - 34s - loss: 0.0226 - acc: 0.9925 - val_loss: 0.0292 - val_acc: 0.9927\n"
          ],
          "name": "stdout"
        }
      ]
    },
    {
      "cell_type": "code",
      "metadata": {
        "id": "y2cVm6XnVpfa",
        "colab_type": "code",
        "colab": {}
      },
      "source": [
        "import matplotlib.pyplot as plt\n",
        "def plot_image(image):\n",
        "    fig=plt.gcf()\n",
        "    fig.set_size_inches(2,2)\n",
        "    plt.imshow(image,cmap='binary')\n",
        "    plt.show()"
      ],
      "execution_count": 0,
      "outputs": []
    },
    {
      "cell_type": "code",
      "metadata": {
        "id": "U1v0R32xVpfc",
        "colab_type": "code",
        "colab": {}
      },
      "source": [
        "def plot_image_label_prediction(images,labels,prediction,idx,num=10):\n",
        "    fig=plt.gcf()\n",
        "    fig.set_size_inches(12,14)\n",
        "    if num>25:num=25\n",
        "    for i in range(0,num):\n",
        "        ax=plt.subplot(5,5,1+i)\n",
        "        ax.imshow(images[idx],cmap='binary')\n",
        "        title='label='+str(labels[idx])\n",
        "        if len(prediction)>0:\n",
        "            title+=',predict='+str(prediction[idx])\n",
        "        ax.set_title(title,fontsize=10)\n",
        "        ax.set_xticks([])\n",
        "        ax.set_yticks([])\n",
        "        idx+=1\n",
        "    plt.show()    "
      ],
      "execution_count": 0,
      "outputs": []
    },
    {
      "cell_type": "code",
      "metadata": {
        "id": "Y4A3czUHVpfd",
        "colab_type": "code",
        "colab": {}
      },
      "source": [
        "def show_training(training,train,validation):\n",
        "    plt.plot(training.history[train])\n",
        "    plt.plot(training.history[validation])\n",
        "    plt.title('training process')\n",
        "    plt.ylabel('training measure')\n",
        "    plt.xlabel('Epoch')\n",
        "    plt.legend(['training','validation'],loc='upper left')\n",
        "    plt.show()"
      ],
      "execution_count": 0,
      "outputs": []
    },
    {
      "cell_type": "code",
      "metadata": {
        "id": "TWSYbZknVpfe",
        "colab_type": "code",
        "outputId": "08ff4e7b-194f-4fbf-8d41-4ecfd87394fa",
        "colab": {}
      },
      "source": [
        "show_training(training,'acc','val_acc')"
      ],
      "execution_count": 0,
      "outputs": [
        {
          "output_type": "display_data",
          "data": {
            "image/png": "[encoded data removed]",
            "text/plain": [
              "<matplotlib.figure.Figure at 0x130a2cef0>"
            ]
          },
          "metadata": {
            "tags": []
          }
        }
      ]
    },
    {
      "cell_type": "code",
      "metadata": {
        "id": "m2ma_8i3Vpfg",
        "colab_type": "code",
        "outputId": "e4a62bbe-127d-4b42-8345-5779a4c86dc4",
        "colab": {}
      },
      "source": [
        "show_training(training,'loss','val_loss')"
      ],
      "execution_count": 0,
      "outputs": [
        {
          "output_type": "display_data",
          "data": {
            "image/png": "[encoded data removed]",
            "text/plain": [
              "<matplotlib.figure.Figure at 0x130c2f208>"
            ]
          },
          "metadata": {
            "tags": []
          }
        }
      ]
    },
    {
      "cell_type": "code",
      "metadata": {
        "id": "737hPui-Vpfi",
        "colab_type": "code",
        "outputId": "da8db5bb-f14a-41e1-eabf-023825da4db2",
        "colab": {}
      },
      "source": [
        "scores=model.evaluate(x_test_normal,y_test)\n",
        "scores[1]"
      ],
      "execution_count": 0,
      "outputs": [
        {
          "output_type": "stream",
          "text": [
            "10000/10000 [==============================] - 3s 292us/step\n"
          ],
          "name": "stdout"
        },
        {
          "output_type": "execute_result",
          "data": {
            "text/plain": [
              "0.99239999999999995"
            ]
          },
          "metadata": {
            "tags": []
          },
          "execution_count": 29
        }
      ]
    },
    {
      "cell_type": "code",
      "metadata": {
        "id": "jjEt1vXrVpfk",
        "colab_type": "code",
        "colab": {}
      },
      "source": [
        "prediction=model.predict_classes(x_test_normal)"
      ],
      "execution_count": 0,
      "outputs": []
    },
    {
      "cell_type": "code",
      "metadata": {
        "id": "fkZ-1_DVVpfl",
        "colab_type": "code",
        "outputId": "eeaee6b5-e2e4-477a-9f98-20f164a1376a",
        "colab": {}
      },
      "source": [
        "prediction[:10]"
      ],
      "execution_count": 0,
      "outputs": [
        {
          "output_type": "execute_result",
          "data": {
            "text/plain": [
              "array([7, 2, 1, 0, 4, 1, 4, 9, 5, 9])"
            ]
          },
          "metadata": {
            "tags": []
          },
          "execution_count": 31
        }
      ]
    },
    {
      "cell_type": "code",
      "metadata": {
        "id": "9anQASY-Vpfn",
        "colab_type": "code",
        "outputId": "73c0b103-a8cc-4557-956b-bc81d6a9aa9d",
        "colab": {}
      },
      "source": [
        "plot_image_label_prediction(xtest,ytest,prediction,340,10)"
      ],
      "execution_count": 0,
      "outputs": [
        {
          "output_type": "display_data",
          "data": {
            "image/png": "[encoded data removed]",
            "text/plain": [
              "<matplotlib.figure.Figure at 0x130d98b00>"
            ]
          },
          "metadata": {
            "tags": []
          }
        }
      ]
    },
    {
      "cell_type": "code",
      "metadata": {
        "id": "8MTFsW_-Vpfp",
        "colab_type": "code",
        "outputId": "f3c8815f-a48a-48ea-decf-558d4112eff9",
        "colab": {}
      },
      "source": [
        "pd.crosstab(ytest,prediction,rownames=['label'],colnames=['predict'])"
      ],
      "execution_count": 0,
      "outputs": [
        {
          "output_type": "execute_result",
          "data": {
            "text/html": [
              "<div>\n",
              "<style>\n",
              "    .dataframe thead tr:only-child th {\n",
              "        text-align: right;\n",
              "    }\n",
              "\n",
              "    .dataframe thead th {\n",
              "        text-align: left;\n",
              "    }\n",
              "\n",
              "    .dataframe tbody tr th {\n",
              "        vertical-align: top;\n",
              "    }\n",
              "</style>\n",
              "<table border=\"1\" class=\"dataframe\">\n",
              "  <thead>\n",
              "    <tr style=\"text-align: right;\">\n",
              "      <th>predict</th>\n",
              "      <th>0</th>\n",
              "      <th>1</th>\n",
              "      <th>2</th>\n",
              "      <th>3</th>\n",
              "      <th>4</th>\n",
              "      <th>5</th>\n",
              "      <th>6</th>\n",
              "      <th>7</th>\n",
              "      <th>8</th>\n",
              "      <th>9</th>\n",
              "    </tr>\n",
              "    <tr>\n",
              "      <th>label</th>\n",
              "      <th></th>\n",
              "      <th></th>\n",
              "      <th></th>\n",
              "      <th></th>\n",
              "      <th></th>\n",
              "      <th></th>\n",
              "      <th></th>\n",
              "      <th></th>\n",
              "      <th></th>\n",
              "      <th></th>\n",
              "    </tr>\n",
              "  </thead>\n",
              "  <tbody>\n",
              "    <tr>\n",
              "      <th>0</th>\n",
              "      <td>978</td>\n",
              "      <td>0</td>\n",
              "      <td>0</td>\n",
              "      <td>0</td>\n",
              "      <td>0</td>\n",
              "      <td>1</td>\n",
              "      <td>0</td>\n",
              "      <td>1</td>\n",
              "      <td>0</td>\n",
              "      <td>0</td>\n",
              "    </tr>\n",
              "    <tr>\n",
              "      <th>1</th>\n",
              "      <td>0</td>\n",
              "      <td>1132</td>\n",
              "      <td>1</td>\n",
              "      <td>1</td>\n",
              "      <td>0</td>\n",
              "      <td>0</td>\n",
              "      <td>0</td>\n",
              "      <td>1</td>\n",
              "      <td>0</td>\n",
              "      <td>0</td>\n",
              "    </tr>\n",
              "    <tr>\n",
              "      <th>2</th>\n",
              "      <td>0</td>\n",
              "      <td>1</td>\n",
              "      <td>1028</td>\n",
              "      <td>0</td>\n",
              "      <td>0</td>\n",
              "      <td>0</td>\n",
              "      <td>0</td>\n",
              "      <td>3</td>\n",
              "      <td>0</td>\n",
              "      <td>0</td>\n",
              "    </tr>\n",
              "    <tr>\n",
              "      <th>3</th>\n",
              "      <td>0</td>\n",
              "      <td>0</td>\n",
              "      <td>1</td>\n",
              "      <td>1007</td>\n",
              "      <td>0</td>\n",
              "      <td>1</td>\n",
              "      <td>0</td>\n",
              "      <td>0</td>\n",
              "      <td>1</td>\n",
              "      <td>0</td>\n",
              "    </tr>\n",
              "    <tr>\n",
              "      <th>4</th>\n",
              "      <td>0</td>\n",
              "      <td>0</td>\n",
              "      <td>0</td>\n",
              "      <td>0</td>\n",
              "      <td>980</td>\n",
              "      <td>0</td>\n",
              "      <td>0</td>\n",
              "      <td>0</td>\n",
              "      <td>1</td>\n",
              "      <td>1</td>\n",
              "    </tr>\n",
              "    <tr>\n",
              "      <th>5</th>\n",
              "      <td>1</td>\n",
              "      <td>0</td>\n",
              "      <td>0</td>\n",
              "      <td>5</td>\n",
              "      <td>0</td>\n",
              "      <td>884</td>\n",
              "      <td>1</td>\n",
              "      <td>0</td>\n",
              "      <td>0</td>\n",
              "      <td>1</td>\n",
              "    </tr>\n",
              "    <tr>\n",
              "      <th>6</th>\n",
              "      <td>3</td>\n",
              "      <td>2</td>\n",
              "      <td>0</td>\n",
              "      <td>1</td>\n",
              "      <td>2</td>\n",
              "      <td>1</td>\n",
              "      <td>947</td>\n",
              "      <td>0</td>\n",
              "      <td>2</td>\n",
              "      <td>0</td>\n",
              "    </tr>\n",
              "    <tr>\n",
              "      <th>7</th>\n",
              "      <td>0</td>\n",
              "      <td>2</td>\n",
              "      <td>7</td>\n",
              "      <td>2</td>\n",
              "      <td>0</td>\n",
              "      <td>0</td>\n",
              "      <td>0</td>\n",
              "      <td>1013</td>\n",
              "      <td>1</td>\n",
              "      <td>3</td>\n",
              "    </tr>\n",
              "    <tr>\n",
              "      <th>8</th>\n",
              "      <td>3</td>\n",
              "      <td>0</td>\n",
              "      <td>2</td>\n",
              "      <td>2</td>\n",
              "      <td>0</td>\n",
              "      <td>1</td>\n",
              "      <td>0</td>\n",
              "      <td>1</td>\n",
              "      <td>960</td>\n",
              "      <td>5</td>\n",
              "    </tr>\n",
              "    <tr>\n",
              "      <th>9</th>\n",
              "      <td>0</td>\n",
              "      <td>1</td>\n",
              "      <td>0</td>\n",
              "      <td>0</td>\n",
              "      <td>5</td>\n",
              "      <td>2</td>\n",
              "      <td>0</td>\n",
              "      <td>5</td>\n",
              "      <td>1</td>\n",
              "      <td>995</td>\n",
              "    </tr>\n",
              "  </tbody>\n",
              "</table>\n",
              "</div>"
            ],
            "text/plain": [
              "predict    0     1     2     3    4    5    6     7    8    9\n",
              "label                                                        \n",
              "0        978     0     0     0    0    1    0     1    0    0\n",
              "1          0  1132     1     1    0    0    0     1    0    0\n",
              "2          0     1  1028     0    0    0    0     3    0    0\n",
              "3          0     0     1  1007    0    1    0     0    1    0\n",
              "4          0     0     0     0  980    0    0     0    1    1\n",
              "5          1     0     0     5    0  884    1     0    0    1\n",
              "6          3     2     0     1    2    1  947     0    2    0\n",
              "7          0     2     7     2    0    0    0  1013    1    3\n",
              "8          3     0     2     2    0    1    0     1  960    5\n",
              "9          0     1     0     0    5    2    0     5    1  995"
            ]
          },
          "metadata": {
            "tags": []
          },
          "execution_count": 33
        }
      ]
    }
  ]
}